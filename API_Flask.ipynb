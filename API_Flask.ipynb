{
  "nbformat": 4,
  "nbformat_minor": 0,
  "metadata": {
    "colab": {
      "name": "API Flask.ipynb",
      "provenance": []
    },
    "kernelspec": {
      "name": "python3",
      "display_name": "Python 3"
    },
    "language_info": {
      "name": "python"
    }
  },
  "cells": [
    {
      "cell_type": "code",
      "metadata": {
        "id": "c3lEDoICyGqc"
      },
      "source": [
        "import requests"
      ],
      "execution_count": 1,
      "outputs": []
    },
    {
      "cell_type": "code",
      "metadata": {
        "id": "CUPJNZBEyKMc"
      },
      "source": [
        "api_url=\"https://CrimsonIncompleteDebuggers.diarrassoubasak.repl.co\""
      ],
      "execution_count": 2,
      "outputs": []
    },
    {
      "cell_type": "code",
      "metadata": {
        "id": "BxSTVyetyQZI"
      },
      "source": [
        "response=requests.get(api_url + '/ping')\n"
      ],
      "execution_count": 3,
      "outputs": []
    },
    {
      "cell_type": "code",
      "metadata": {
        "colab": {
          "base_uri": "https://localhost:8080/",
          "height": 35
        },
        "id": "JRq5GcWFy9dv",
        "outputId": "4450d1d0-1f9e-4aaf-abd2-4322e6e2f512"
      },
      "source": [
        "response.text"
      ],
      "execution_count": 4,
      "outputs": [
        {
          "output_type": "execute_result",
          "data": {
            "application/vnd.google.colaboratory.intrinsic+json": {
              "type": "string"
            },
            "text/plain": [
              "'pong'"
            ]
          },
          "metadata": {
            "tags": []
          },
          "execution_count": 4
        }
      ]
    },
    {
      "cell_type": "markdown",
      "metadata": {
        "id": "8Y9WQuv9zv_-"
      },
      "source": [
        "# Envoyer des lignes du dataset de Test"
      ]
    },
    {
      "cell_type": "code",
      "metadata": {
        "id": "x4054t2fzARf"
      },
      "source": [
        "test_url=\"https://bit.ly/titanic-test-set\"\n",
        "\n",
        "import pandas as pd\n",
        "\n",
        "df=pd.read_csv(test_url,index_col='PassengerId')"
      ],
      "execution_count": 5,
      "outputs": []
    },
    {
      "cell_type": "code",
      "metadata": {
        "colab": {
          "base_uri": "https://localhost:8080/",
          "height": 190
        },
        "id": "fIrkjeZvz3o7",
        "outputId": "d766c79a-715f-4d8b-fe35-aa48f9353529"
      },
      "source": [
        "df.head(3)"
      ],
      "execution_count": 6,
      "outputs": [
        {
          "output_type": "execute_result",
          "data": {
            "text/html": [
              "<div>\n",
              "<style scoped>\n",
              "    .dataframe tbody tr th:only-of-type {\n",
              "        vertical-align: middle;\n",
              "    }\n",
              "\n",
              "    .dataframe tbody tr th {\n",
              "        vertical-align: top;\n",
              "    }\n",
              "\n",
              "    .dataframe thead th {\n",
              "        text-align: right;\n",
              "    }\n",
              "</style>\n",
              "<table border=\"1\" class=\"dataframe\">\n",
              "  <thead>\n",
              "    <tr style=\"text-align: right;\">\n",
              "      <th></th>\n",
              "      <th>Pclass</th>\n",
              "      <th>Name</th>\n",
              "      <th>Sex</th>\n",
              "      <th>Age</th>\n",
              "      <th>SibSp</th>\n",
              "      <th>Parch</th>\n",
              "      <th>Ticket</th>\n",
              "      <th>Fare</th>\n",
              "      <th>Cabin</th>\n",
              "      <th>Embarked</th>\n",
              "    </tr>\n",
              "    <tr>\n",
              "      <th>PassengerId</th>\n",
              "      <th></th>\n",
              "      <th></th>\n",
              "      <th></th>\n",
              "      <th></th>\n",
              "      <th></th>\n",
              "      <th></th>\n",
              "      <th></th>\n",
              "      <th></th>\n",
              "      <th></th>\n",
              "      <th></th>\n",
              "    </tr>\n",
              "  </thead>\n",
              "  <tbody>\n",
              "    <tr>\n",
              "      <th>892</th>\n",
              "      <td>3</td>\n",
              "      <td>Kelly, Mr. James</td>\n",
              "      <td>male</td>\n",
              "      <td>34.5</td>\n",
              "      <td>0</td>\n",
              "      <td>0</td>\n",
              "      <td>330911</td>\n",
              "      <td>7.8292</td>\n",
              "      <td>NaN</td>\n",
              "      <td>Q</td>\n",
              "    </tr>\n",
              "    <tr>\n",
              "      <th>893</th>\n",
              "      <td>3</td>\n",
              "      <td>Wilkes, Mrs. James (Ellen Needs)</td>\n",
              "      <td>female</td>\n",
              "      <td>47.0</td>\n",
              "      <td>1</td>\n",
              "      <td>0</td>\n",
              "      <td>363272</td>\n",
              "      <td>7.0000</td>\n",
              "      <td>NaN</td>\n",
              "      <td>S</td>\n",
              "    </tr>\n",
              "    <tr>\n",
              "      <th>894</th>\n",
              "      <td>2</td>\n",
              "      <td>Myles, Mr. Thomas Francis</td>\n",
              "      <td>male</td>\n",
              "      <td>62.0</td>\n",
              "      <td>0</td>\n",
              "      <td>0</td>\n",
              "      <td>240276</td>\n",
              "      <td>9.6875</td>\n",
              "      <td>NaN</td>\n",
              "      <td>Q</td>\n",
              "    </tr>\n",
              "  </tbody>\n",
              "</table>\n",
              "</div>"
            ],
            "text/plain": [
              "             Pclass                              Name  ... Cabin  Embarked\n",
              "PassengerId                                            ...                \n",
              "892               3                  Kelly, Mr. James  ...   NaN         Q\n",
              "893               3  Wilkes, Mrs. James (Ellen Needs)  ...   NaN         S\n",
              "894               2         Myles, Mr. Thomas Francis  ...   NaN         Q\n",
              "\n",
              "[3 rows x 10 columns]"
            ]
          },
          "metadata": {
            "tags": []
          },
          "execution_count": 6
        }
      ]
    },
    {
      "cell_type": "markdown",
      "metadata": {
        "id": "SFrUIrMJ0Ep_"
      },
      "source": [
        "# Isoler une ligne du dataset"
      ]
    },
    {
      "cell_type": "code",
      "metadata": {
        "colab": {
          "base_uri": "https://localhost:8080/"
        },
        "id": "p7r1_cc2z5x7",
        "outputId": "04098148-2bce-4bc7-f6fc-c8cd7ff481a4"
      },
      "source": [
        "df.iloc[0]"
      ],
      "execution_count": 7,
      "outputs": [
        {
          "output_type": "execute_result",
          "data": {
            "text/plain": [
              "Pclass                     3\n",
              "Name        Kelly, Mr. James\n",
              "Sex                     male\n",
              "Age                     34.5\n",
              "SibSp                      0\n",
              "Parch                      0\n",
              "Ticket                330911\n",
              "Fare                  7.8292\n",
              "Cabin                    NaN\n",
              "Embarked                   Q\n",
              "Name: 892, dtype: object"
            ]
          },
          "metadata": {
            "tags": []
          },
          "execution_count": 7
        }
      ]
    },
    {
      "cell_type": "markdown",
      "metadata": {
        "id": "4yvWEh1f0v3D"
      },
      "source": [
        "Du coté de mon API (model), notre modele fait des prédictions à partir du dataframe (objet 2D), mais la serie qu'on va envoyer est une serie (objet 1D)"
      ]
    },
    {
      "cell_type": "code",
      "metadata": {
        "id": "gc9LxtRJ0Iq7"
      },
      "source": [
        "# Envoie (Client --> API)\n",
        "payload=df.iloc[[0]].to_json()"
      ],
      "execution_count": 29,
      "outputs": []
    },
    {
      "cell_type": "code",
      "metadata": {
        "colab": {
          "base_uri": "https://localhost:8080/",
          "height": 69
        },
        "id": "NJC4cuCY0QBT",
        "outputId": "e6c1eada-bea6-4ec8-a782-43329bd1556c"
      },
      "source": [
        "payload"
      ],
      "execution_count": 30,
      "outputs": [
        {
          "output_type": "execute_result",
          "data": {
            "application/vnd.google.colaboratory.intrinsic+json": {
              "type": "string"
            },
            "text/plain": [
              "'{\"Pclass\":{\"892\":3},\"Name\":{\"892\":\"Kelly, Mr. James\"},\"Sex\":{\"892\":\"male\"},\"Age\":{\"892\":34.5},\"SibSp\":{\"892\":0},\"Parch\":{\"892\":0},\"Ticket\":{\"892\":\"330911\"},\"Fare\":{\"892\":7.8292},\"Cabin\":{\"892\":null},\"Embarked\":{\"892\":\"Q\"}}'"
            ]
          },
          "metadata": {
            "tags": []
          },
          "execution_count": 30
        }
      ]
    },
    {
      "cell_type": "code",
      "metadata": {
        "colab": {
          "base_uri": "https://localhost:8080/",
          "height": 80
        },
        "id": "yb7IGyJO0RiT",
        "outputId": "51c8d0d3-a519-45dc-c0b0-56b511d151ff"
      },
      "source": [
        "# Reception ( dans le code de notre API)\n",
        "pd.read_json(payload,typ='frame',orient='columns')"
      ],
      "execution_count": 31,
      "outputs": [
        {
          "output_type": "execute_result",
          "data": {
            "text/html": [
              "<div>\n",
              "<style scoped>\n",
              "    .dataframe tbody tr th:only-of-type {\n",
              "        vertical-align: middle;\n",
              "    }\n",
              "\n",
              "    .dataframe tbody tr th {\n",
              "        vertical-align: top;\n",
              "    }\n",
              "\n",
              "    .dataframe thead th {\n",
              "        text-align: right;\n",
              "    }\n",
              "</style>\n",
              "<table border=\"1\" class=\"dataframe\">\n",
              "  <thead>\n",
              "    <tr style=\"text-align: right;\">\n",
              "      <th></th>\n",
              "      <th>Pclass</th>\n",
              "      <th>Name</th>\n",
              "      <th>Sex</th>\n",
              "      <th>Age</th>\n",
              "      <th>SibSp</th>\n",
              "      <th>Parch</th>\n",
              "      <th>Ticket</th>\n",
              "      <th>Fare</th>\n",
              "      <th>Cabin</th>\n",
              "      <th>Embarked</th>\n",
              "    </tr>\n",
              "  </thead>\n",
              "  <tbody>\n",
              "    <tr>\n",
              "      <th>892</th>\n",
              "      <td>3</td>\n",
              "      <td>Kelly, Mr. James</td>\n",
              "      <td>male</td>\n",
              "      <td>34.5</td>\n",
              "      <td>0</td>\n",
              "      <td>0</td>\n",
              "      <td>330911</td>\n",
              "      <td>7.8292</td>\n",
              "      <td>NaN</td>\n",
              "      <td>Q</td>\n",
              "    </tr>\n",
              "  </tbody>\n",
              "</table>\n",
              "</div>"
            ],
            "text/plain": [
              "     Pclass              Name   Sex   Age  ...  Ticket    Fare  Cabin  Embarked\n",
              "892       3  Kelly, Mr. James  male  34.5  ...  330911  7.8292    NaN         Q\n",
              "\n",
              "[1 rows x 10 columns]"
            ]
          },
          "metadata": {
            "tags": []
          },
          "execution_count": 31
        }
      ]
    },
    {
      "cell_type": "code",
      "metadata": {
        "id": "Kv3BHd5A0sxu"
      },
      "source": [
        "resultat=requests.post(api_url + '/predict',\n",
        "                  data=df.iloc[[12]].to_json(),\n",
        "                  headers={'Content-Type':'application/json'})"
      ],
      "execution_count": 35,
      "outputs": []
    },
    {
      "cell_type": "code",
      "metadata": {
        "colab": {
          "base_uri": "https://localhost:8080/"
        },
        "id": "2fP_IJP91ZD9",
        "outputId": "7ece879a-1395-46cc-9c79-6f01acc3a46c"
      },
      "source": [
        "resultat"
      ],
      "execution_count": 36,
      "outputs": [
        {
          "output_type": "execute_result",
          "data": {
            "text/plain": [
              "<Response [201]>"
            ]
          },
          "metadata": {
            "tags": []
          },
          "execution_count": 36
        }
      ]
    },
    {
      "cell_type": "code",
      "metadata": {
        "colab": {
          "base_uri": "https://localhost:8080/",
          "height": 35
        },
        "id": "7HO1OLrA4iAq",
        "outputId": "8cc4de74-1d03-45f0-b1d2-14290133d472"
      },
      "source": [
        "resultat.text"
      ],
      "execution_count": 37,
      "outputs": [
        {
          "output_type": "execute_result",
          "data": {
            "application/vnd.google.colaboratory.intrinsic+json": {
              "type": "string"
            },
            "text/plain": [
              "'1'"
            ]
          },
          "metadata": {
            "tags": []
          },
          "execution_count": 37
        }
      ]
    },
    {
      "cell_type": "code",
      "metadata": {
        "id": "oYoMjfK94rML"
      },
      "source": [
        "url_heroku=\"https://titanic-app-api-2020.herokuapp.com\""
      ],
      "execution_count": 38,
      "outputs": []
    },
    {
      "cell_type": "code",
      "metadata": {
        "colab": {
          "base_uri": "https://localhost:8080/"
        },
        "id": "8Jy0Li6Kb0mV",
        "outputId": "96afd601-a35f-4cb3-869c-3d26d530c95e"
      },
      "source": [
        "response=requests.get(url_heroku + '/ping')\n",
        "\n",
        "response, response.text"
      ],
      "execution_count": 39,
      "outputs": [
        {
          "output_type": "execute_result",
          "data": {
            "text/plain": [
              "(<Response [200]>, 'pong')"
            ]
          },
          "metadata": {
            "tags": []
          },
          "execution_count": 39
        }
      ]
    },
    {
      "cell_type": "code",
      "metadata": {
        "id": "7BCph-RacB-X"
      },
      "source": [
        "def predict_api(df,idx):\n",
        "  payload=df.iloc[[idx]].to_json()\n",
        "  url_heroku=\"https://titanic-app-api-2020.herokuapp.com\"\n",
        "\n",
        "  response= requests.post(url_heroku + '/predict',\n",
        "                         data=payload ,\n",
        "                         headers={'Content-Type':'application/json'})\n",
        "  #print(response, idx)\n",
        "  return (int(response.text))\n"
      ],
      "execution_count": 40,
      "outputs": []
    },
    {
      "cell_type": "code",
      "metadata": {
        "colab": {
          "base_uri": "https://localhost:8080/"
        },
        "id": "-4ca535jdInE",
        "outputId": "d9c0aea4-94c4-41fd-e35d-2c1dc1dfd8c1"
      },
      "source": [
        "predict_api(df,12)"
      ],
      "execution_count": 41,
      "outputs": [
        {
          "output_type": "stream",
          "text": [
            "<Response [201]> 12\n",
            "1\n"
          ],
          "name": "stdout"
        }
      ]
    },
    {
      "cell_type": "code",
      "metadata": {
        "id": "Hrw1IhkRdQG3"
      },
      "source": [
        "def predict_api_titanic(df,idx):\n",
        "  \n",
        "  passenger_id=df.iloc[idx].name\n",
        "\n",
        "  # Envoyer à heroku\n",
        "  payload=df.iloc[[idx]].to_json()\n",
        "  url_heroku=\"https://titanic-app-api-2020.herokuapp.com\"\n",
        "\n",
        "  response= requests.post(url_heroku + '/predict',\n",
        "                         data=payload ,\n",
        "                         headers={'Content-Type':'application/json'})\n",
        "  # Formatte les resultats  dans un dico \n",
        "  return {'PassengerId' : passenger_id, 'Survived': int(response.text)}\n"
      ],
      "execution_count": 46,
      "outputs": []
    },
    {
      "cell_type": "code",
      "metadata": {
        "colab": {
          "base_uri": "https://localhost:8080/"
        },
        "id": "4eRzQvm7f7fk",
        "outputId": "b00e8ce5-6305-46ab-9f26-0a8766522612"
      },
      "source": [
        "predict_api_titanic(df,0)"
      ],
      "execution_count": 47,
      "outputs": [
        {
          "output_type": "execute_result",
          "data": {
            "text/plain": [
              "{'PassengerId': 892, 'Survived': 0}"
            ]
          },
          "metadata": {
            "tags": []
          },
          "execution_count": 47
        }
      ]
    },
    {
      "cell_type": "code",
      "metadata": {
        "colab": {
          "base_uri": "https://localhost:8080/"
        },
        "id": "LGEaz28vf9o_",
        "outputId": "20940636-087c-44f3-ed57-c1facfd9f89b"
      },
      "source": [
        "df.shape"
      ],
      "execution_count": 48,
      "outputs": [
        {
          "output_type": "execute_result",
          "data": {
            "text/plain": [
              "(418, 10)"
            ]
          },
          "metadata": {
            "tags": []
          },
          "execution_count": 48
        }
      ]
    },
    {
      "cell_type": "code",
      "metadata": {
        "id": "E0VSkFE1gk9A"
      },
      "source": [
        "resultat_final=[predict_api_titanic(df,idx) for idx in range(418)]"
      ],
      "execution_count": 49,
      "outputs": []
    },
    {
      "cell_type": "code",
      "metadata": {
        "id": "3n339s-ug1Jv"
      },
      "source": [
        "pd.DataFrame(resultat_final).to_csv('Soumission_kaggle.csv', index=False)"
      ],
      "execution_count": 53,
      "outputs": []
    },
    {
      "cell_type": "code",
      "metadata": {
        "id": "1fSXhfyoh6Yr"
      },
      "source": [
        ""
      ],
      "execution_count": null,
      "outputs": []
    }
  ]
}